{
  "nbformat": 4,
  "nbformat_minor": 0,
  "metadata": {
    "colab": {
      "provenance": [],
      "authorship_tag": "ABX9TyNIefHzAlaJqge/cSFVyz1u",
      "include_colab_link": true
    },
    "kernelspec": {
      "name": "python3",
      "display_name": "Python 3"
    },
    "language_info": {
      "name": "python"
    }
  },
  "cells": [
    {
      "cell_type": "markdown",
      "metadata": {
        "id": "view-in-github",
        "colab_type": "text"
      },
      "source": [
        "<a href=\"https://colab.research.google.com/github/rushikeshnaik779/new_water/blob/main/slidingWindowProblem_for_stocks_price.ipynb\" target=\"_parent\"><img src=\"https://colab.research.google.com/assets/colab-badge.svg\" alt=\"Open In Colab\"/></a>"
      ]
    },
    {
      "cell_type": "code",
      "source": [
        "# this is a sliding window problem"
      ],
      "metadata": {
        "id": "8HW7ni3XSLOl"
      },
      "execution_count": null,
      "outputs": []
    },
    {
      "cell_type": "code",
      "execution_count": 3,
      "metadata": {
        "id": "MuTEXzj3RQ_p"
      },
      "outputs": [],
      "source": [
        "def maxProfit( prices: list[int])-> int:\n",
        "    \"function will give you the output of max profit for the stocks\"\n",
        "\n",
        "    l, r = 0, 1\n",
        "    maxP = 0\n",
        "\n",
        "    while r < len(prices):\n",
        "        if prices[l] < prices[r]:\n",
        "            profit = prices[r] - prices[l]\n",
        "            maxP = max(maxP, profit)\n",
        "        else:\n",
        "            l = r\n",
        "        r += 1\n",
        "\n",
        "    return maxP"
      ]
    },
    {
      "cell_type": "code",
      "source": [
        "prices =  [ -1,2,3,-4,5,-6]"
      ],
      "metadata": {
        "id": "yvwmQZKdRygJ"
      },
      "execution_count": 6,
      "outputs": []
    },
    {
      "cell_type": "code",
      "source": [
        "print(maxProfit(prices))"
      ],
      "metadata": {
        "colab": {
          "base_uri": "https://localhost:8080/"
        },
        "id": "RF7k8d66R_fi",
        "outputId": "28f2ea5c-f6f2-45ec-a778-10451066c0a9"
      },
      "execution_count": 7,
      "outputs": [
        {
          "output_type": "stream",
          "name": "stdout",
          "text": [
            "9\n"
          ]
        }
      ]
    },
    {
      "cell_type": "code",
      "source": [],
      "metadata": {
        "id": "8z-0-DDFSCFO"
      },
      "execution_count": null,
      "outputs": []
    }
  ]
}