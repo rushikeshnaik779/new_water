{
  "nbformat": 4,
  "nbformat_minor": 0,
  "metadata": {
    "colab": {
      "provenance": [],
      "authorship_tag": "ABX9TyMzK4JwHUNNIJlAcdE3saib",
      "include_colab_link": true
    },
    "kernelspec": {
      "name": "python3",
      "display_name": "Python 3"
    },
    "language_info": {
      "name": "python"
    }
  },
  "cells": [
    {
      "cell_type": "markdown",
      "metadata": {
        "id": "view-in-github",
        "colab_type": "text"
      },
      "source": [
        "<a href=\"https://colab.research.google.com/github/rushikeshnaik779/new_water/blob/main/window_functions.ipynb\" target=\"_parent\"><img src=\"https://colab.research.google.com/assets/colab-badge.svg\" alt=\"Open In Colab\"/></a>"
      ]
    },
    {
      "cell_type": "code",
      "execution_count": 1,
      "metadata": {
        "colab": {
          "base_uri": "https://localhost:8080/"
        },
        "id": "49yWTQAmpZpa",
        "outputId": "9e37d185-578c-43fa-bb8b-297dbfec36c3"
      },
      "outputs": [
        {
          "output_type": "stream",
          "name": "stdout",
          "text": [
            "Cloning into 'DataAnalysisWithPythonAndPySpark-Data'...\n",
            "remote: Enumerating objects: 71, done.\u001b[K\n",
            "remote: Total 71 (delta 0), reused 0 (delta 0), pack-reused 71\u001b[K\n",
            "Receiving objects: 100% (71/71), 828.81 MiB | 26.59 MiB/s, done.\n",
            "Updating files: 100% (59/59), done.\n"
          ]
        }
      ],
      "source": [
        "# Download Java Virtual Machine (JVM)\n",
        "!apt-get install openjdk-8-jdk-headless -qq > /dev/null\n",
        "\n",
        "!wget -q https://dlcdn.apache.org/spark/spark-3.5.0/spark-3.5.0-bin-hadoop3.tgz\n",
        "!tar xf spark-3.5.0-bin-hadoop3.tgz\n",
        "\n",
        "\n",
        "\n",
        "import os\n",
        "os.environ[\"JAVA_HOME\"] = \"/usr/lib/jvm/java-8-openjdk-amd64\"\n",
        "os.environ[\"SPARK_HOME\"] = \"/content/spark-3.5.0-bin-hadoop3\"\n",
        "\n",
        "\n",
        "!pip install -q findspark\n",
        "import findspark\n",
        "findspark.init()\n",
        "\n",
        "\n",
        "from pyspark.sql import SparkSession\n",
        "spark = SparkSession.builder\\\n",
        "        .master(\"local\")\\\n",
        "        .appName(\"Colab\")\\\n",
        "        .config('spark.ui.port', '4050')\\\n",
        "        .getOrCreate()\n",
        "\n",
        "\n",
        "# data because I am reading data analysis with python and pyspark\n",
        "!git clone https://github.com/jonesberg/DataAnalysisWithPythonAndPySpark-Data.git"
      ]
    },
    {
      "cell_type": "code",
      "source": [
        "!ls DataAnalysisWithPythonAndPySpark-Data/window\n"
      ],
      "metadata": {
        "colab": {
          "base_uri": "https://localhost:8080/"
        },
        "id": "YsaGEAmzpeZZ",
        "outputId": "3ee5bcaa-8a48-4262-8b42-77de773ce2d1"
      },
      "execution_count": 2,
      "outputs": [
        {
          "output_type": "stream",
          "name": "stdout",
          "text": [
            "gsod_light.parquet  gsod.parquet\n"
          ]
        }
      ]
    },
    {
      "cell_type": "code",
      "source": [
        "gsod = spark.read.parquet('./DataAnalysisWithPythonAndPySpark-Data/window/gsod.parquet')"
      ],
      "metadata": {
        "id": "UbzIliYPz7jS"
      },
      "execution_count": 3,
      "outputs": []
    },
    {
      "cell_type": "code",
      "source": [
        "gsod.count()"
      ],
      "metadata": {
        "colab": {
          "base_uri": "https://localhost:8080/"
        },
        "id": "ESj0QaeV0GMq",
        "outputId": "1f549bdc-0307-4659-ce77-5a3ebc36d146"
      },
      "execution_count": 4,
      "outputs": [
        {
          "output_type": "execute_result",
          "data": {
            "text/plain": [
              "12460217"
            ]
          },
          "metadata": {},
          "execution_count": 4
        }
      ]
    },
    {
      "cell_type": "code",
      "source": [
        "gsod.show(1, False)"
      ],
      "metadata": {
        "colab": {
          "base_uri": "https://localhost:8080/"
        },
        "id": "T40CFqYQ0RGK",
        "outputId": "58605815-3216-4163-f835-e03630ff48a0"
      },
      "execution_count": 5,
      "outputs": [
        {
          "output_type": "stream",
          "name": "stdout",
          "text": [
            "+------+-----+----+---+---+----+----------+------+----------+------+---------+-----+---------+-----+-----------+----+----------+-----+-----+----+--------+----+--------+----+---------+-----+---+------------+----------------+----+-------+--------------------+\n",
            "|stn   |wban |year|mo |da |temp|count_temp|dewp  |count_dewp|slp   |count_slp|stp  |count_stp|visib|count_visib|wdsp|count_wdsp|mxpsd|gust |max |flag_max|min |flag_min|prcp|flag_prcp|sndp |fog|rain_drizzle|snow_ice_pellets|hail|thunder|tornado_funnel_cloud|\n",
            "+------+-----+----+---+---+----+----------+------+----------+------+---------+-----+---------+-----+-----------+----+----------+-----+-----+----+--------+----+--------+----+---------+-----+---+------------+----------------+----+-------+--------------------+\n",
            "|917350|99999|2018|04 |21 |82.6|9         |9999.9|0         |1006.9|9        |993.2|9        |999.9|0          |3.7 |9         |8.5  |999.9|85.5|*       |74.5|        |0.31|G        |999.9|0  |0           |0               |0   |0      |0                   |\n",
            "+------+-----+----+---+---+----+----------+------+----------+------+---------+-----+---------+-----+-----------+----+----------+-----+-----+----+--------+----+--------+----+---------+-----+---+------------+----------------+----+-------+--------------------+\n",
            "only showing top 1 row\n",
            "\n"
          ]
        }
      ]
    },
    {
      "cell_type": "code",
      "source": [
        "# calculating the lowest temperature for each year using groupBy()\n",
        "import pyspark.sql.functions as F\n",
        "\n",
        "\n",
        "coldest_temp = gsod.groupby(\"year\").agg(F.min(\"temp\").alias(\"temp\"))\n",
        "coldest_temp.orderBy(\"temp\").show()"
      ],
      "metadata": {
        "colab": {
          "base_uri": "https://localhost:8080/"
        },
        "id": "X0Lj3Dv-0TrJ",
        "outputId": "ffe75519-9c8a-43cc-baff-7b30378479a8"
      },
      "execution_count": 6,
      "outputs": [
        {
          "output_type": "stream",
          "name": "stdout",
          "text": [
            "+----+------+\n",
            "|year|  temp|\n",
            "+----+------+\n",
            "|2019|-114.7|\n",
            "|2017|-114.7|\n",
            "|2018|-113.5|\n",
            "+----+------+\n",
            "\n"
          ]
        }
      ]
    },
    {
      "cell_type": "code",
      "source": [
        "coldest_when = gsod.join(\n",
        "    coldest_temp, how=\"left_semi\", on=[\"year\", \"temp\"]\n",
        ").select(\"stn\", \"year\", \"mo\", \"da\", \"temp\")\n",
        "\n",
        "\n",
        "coldest_when.orderBy(\"year\", \"mo\", \"da\").show()"
      ],
      "metadata": {
        "colab": {
          "base_uri": "https://localhost:8080/"
        },
        "id": "9BZ3SHoe1SWc",
        "outputId": "e63919c6-cefa-4726-e06e-86978afa80c5"
      },
      "execution_count": 7,
      "outputs": [
        {
          "output_type": "stream",
          "name": "stdout",
          "text": [
            "+------+----+---+---+------+\n",
            "|   stn|year| mo| da|  temp|\n",
            "+------+----+---+---+------+\n",
            "|896250|2017| 06| 20|-114.7|\n",
            "|896060|2018| 08| 27|-113.5|\n",
            "|895770|2019| 06| 15|-114.7|\n",
            "+------+----+---+---+------+\n",
            "\n"
          ]
        }
      ]
    },
    {
      "cell_type": "code",
      "source": [
        "# creating and using a simple window function to get the coldest day\n",
        "\n",
        "# split apply combine --- data analysis world\n",
        "# window function ---- Sql world\n",
        "\n",
        "from pyspark.sql.window import Window\n",
        "\n",
        "each_year = Window.partitionBy(\"year\")\n",
        "\n",
        "print(each_year)"
      ],
      "metadata": {
        "colab": {
          "base_uri": "https://localhost:8080/"
        },
        "id": "REf-yLzI19NM",
        "outputId": "12f61574-3f3e-4383-ff44-b498154b094b"
      },
      "execution_count": 8,
      "outputs": [
        {
          "output_type": "stream",
          "name": "stdout",
          "text": [
            "<pyspark.sql.window.WindowSpec object at 0x78b56aa56170>\n"
          ]
        }
      ]
    },
    {
      "cell_type": "code",
      "source": [
        "# again reprinting the join code\n",
        "coldest_when = gsod.join(\n",
        "    coldest_temp, how=\"left_semi\", on=[\"year\", \"temp\"]\n",
        ").select(\"stn\", \"year\", \"mo\", \"da\", \"temp\")\n",
        "\n",
        "coldest_when.orderBy(\"year\", \"mo\", \"da\").show()"
      ],
      "metadata": {
        "colab": {
          "base_uri": "https://localhost:8080/"
        },
        "id": "KUbJrYsn4BXr",
        "outputId": "f38f0d59-70c8-45eb-98c1-0faf28194135"
      },
      "execution_count": 9,
      "outputs": [
        {
          "output_type": "stream",
          "name": "stdout",
          "text": [
            "+------+----+---+---+------+\n",
            "|   stn|year| mo| da|  temp|\n",
            "+------+----+---+---+------+\n",
            "|896250|2017| 06| 20|-114.7|\n",
            "|896060|2018| 08| 27|-113.5|\n",
            "|895770|2019| 06| 15|-114.7|\n",
            "+------+----+---+---+------+\n",
            "\n"
          ]
        }
      ]
    },
    {
      "cell_type": "code",
      "source": [
        "# Selecting the minimum temperature for each year using a window function\n",
        "\n",
        "checking = (gsod\n",
        " .withColumn(\"min_temp\", F.min(\"temp\").over(each_year))\n",
        "# .where(\"temp = min_temp\")\n",
        " .select(\"year\", \"mo\", \"da\", \"stn\", \"temp\", \"min_temp\")\n",
        " .orderBy(\"year\", \"mo\", \"da\")\n",
        "# .show()\n",
        " )"
      ],
      "metadata": {
        "id": "RaJUFQwo4a-7"
      },
      "execution_count": 10,
      "outputs": []
    },
    {
      "cell_type": "code",
      "source": [
        "print(checking.count())\n",
        "print(gsod.count())"
      ],
      "metadata": {
        "colab": {
          "base_uri": "https://localhost:8080/"
        },
        "id": "Rb644D1343aS",
        "outputId": "cf656234-2225-4cf3-a943-8df740b9e535"
      },
      "execution_count": 11,
      "outputs": [
        {
          "output_type": "stream",
          "name": "stdout",
          "text": [
            "12460217\n",
            "12460217\n"
          ]
        }
      ]
    },
    {
      "cell_type": "code",
      "source": [
        "# select\n",
        "gsod.select(\n",
        "    \"year\",\n",
        "    \"mo\",\n",
        "    \"da\",\n",
        "    \"stn\",\n",
        "    \"temp\",\n",
        "    F.min(\"temp\").over(each_year).alias(\"min_temp\"),\n",
        ").where(\n",
        "    \"temp = min_temp\"\n",
        ").drop(\"min_temp\"\n",
        ").orderBy(\n",
        "    \"year\",\"mo\", \"da\"\n",
        ").show()"
      ],
      "metadata": {
        "colab": {
          "base_uri": "https://localhost:8080/"
        },
        "id": "8QErz7WW5Lsc",
        "outputId": "f83e4323-9267-4be1-96e7-94211bb13b45"
      },
      "execution_count": 12,
      "outputs": [
        {
          "output_type": "stream",
          "name": "stdout",
          "text": [
            "+----+---+---+------+------+\n",
            "|year| mo| da|   stn|  temp|\n",
            "+----+---+---+------+------+\n",
            "|2017| 06| 20|896250|-114.7|\n",
            "|2018| 08| 27|896060|-113.5|\n",
            "|2019| 06| 15|895770|-114.7|\n",
            "+----+---+---+------+------+\n",
            "\n"
          ]
        }
      ]
    },
    {
      "cell_type": "code",
      "source": [
        "# windows functions are much more flexible\n",
        "# ranking and ANalytical functions\n",
        "\n",
        "\n",
        "# Ranking - which provides information about rank(first, second all the way to last),\n",
        "# n-tiles and the ever so useful row number\n",
        "\n",
        "# Analytical functions - which despite it's namesake covers a variety of behaviours not\n",
        "# related to summary or ranking\n",
        "\n"
      ],
      "metadata": {
        "id": "WWbUEOKy6pfw"
      },
      "execution_count": 13,
      "outputs": []
    },
    {
      "cell_type": "code",
      "source": [
        "gsod_light = spark.read.parquet('./DataAnalysisWithPythonAndPySpark-Data/window/gsod_light.parquet')"
      ],
      "metadata": {
        "id": "uC-8SUYH9SgR"
      },
      "execution_count": 14,
      "outputs": []
    },
    {
      "cell_type": "code",
      "source": [
        "gsod_light.show()"
      ],
      "metadata": {
        "colab": {
          "base_uri": "https://localhost:8080/"
        },
        "id": "HrDWh8hg9UlI",
        "outputId": "8abb2050-0407-4ee4-fec7-8e1ff97a4b61"
      },
      "execution_count": 15,
      "outputs": [
        {
          "output_type": "stream",
          "name": "stdout",
          "text": [
            "+------+----+---+---+----+----------+\n",
            "|   stn|year| mo| da|temp|count_temp|\n",
            "+------+----+---+---+----+----------+\n",
            "|994979|2017| 12| 11|21.3|        21|\n",
            "|998012|2017| 03| 02|31.4|        24|\n",
            "|719200|2017| 10| 09|60.5|        11|\n",
            "|917350|2018| 04| 21|82.6|         9|\n",
            "|076470|2018| 06| 07|65.0|        24|\n",
            "|996470|2018| 03| 12|55.6|        12|\n",
            "|041680|2019| 02| 19|16.1|        15|\n",
            "|949110|2019| 11| 23|54.9|        14|\n",
            "|998252|2019| 04| 18|44.7|        11|\n",
            "|998166|2019| 03| 20|34.8|        12|\n",
            "+------+----+---+---+----+----------+\n",
            "\n"
          ]
        }
      ]
    },
    {
      "cell_type": "code",
      "source": [
        "# ranking functions\n",
        "temp_per_month_asc = Window.partitionBy(\"mo\").orderBy(\"count_temp\")\n",
        "# partitioning with Month but we will order by count_temp\n",
        "print(temp_per_month_asc)"
      ],
      "metadata": {
        "colab": {
          "base_uri": "https://localhost:8080/"
        },
        "id": "dD-TAwxM9ZVO",
        "outputId": "dbf561b5-7815-4850-9a07-f55f1e01b0dd"
      },
      "execution_count": 16,
      "outputs": [
        {
          "output_type": "stream",
          "name": "stdout",
          "text": [
            "<pyspark.sql.window.WindowSpec object at 0x78b56aad5ed0>\n"
          ]
        }
      ]
    },
    {
      "cell_type": "code",
      "source": [
        "# The rank() according to the value of the count_temp column\n"
      ],
      "metadata": {
        "id": "czZxvB1W_UaX"
      },
      "execution_count": 17,
      "outputs": []
    },
    {
      "cell_type": "code",
      "source": [
        "(gsod_light.withColumn(\n",
        "    \"rank_tqm\", F.rank().over(temp_per_month_asc)\n",
        ")\n",
        " # .where('mo = 03')\n",
        ".show()\n",
        ")"
      ],
      "metadata": {
        "colab": {
          "base_uri": "https://localhost:8080/"
        },
        "id": "zgJ3BojK-PrX",
        "outputId": "d7e86c48-b300-4b8c-850b-d6f50a015ca4"
      },
      "execution_count": 18,
      "outputs": [
        {
          "output_type": "stream",
          "name": "stdout",
          "text": [
            "+------+----+---+---+----+----------+--------+\n",
            "|   stn|year| mo| da|temp|count_temp|rank_tqm|\n",
            "+------+----+---+---+----+----------+--------+\n",
            "|041680|2019| 02| 19|16.1|        15|       1|\n",
            "|996470|2018| 03| 12|55.6|        12|       1|\n",
            "|998166|2019| 03| 20|34.8|        12|       1|\n",
            "|998012|2017| 03| 02|31.4|        24|       3|\n",
            "|917350|2018| 04| 21|82.6|         9|       1|\n",
            "|998252|2019| 04| 18|44.7|        11|       2|\n",
            "|076470|2018| 06| 07|65.0|        24|       1|\n",
            "|719200|2017| 10| 09|60.5|        11|       1|\n",
            "|949110|2019| 11| 23|54.9|        14|       1|\n",
            "|994979|2017| 12| 11|21.3|        21|       1|\n",
            "+------+----+---+---+----+----------+--------+\n",
            "\n"
          ]
        }
      ]
    },
    {
      "cell_type": "code",
      "source": [
        "(\n",
        "    gsod_light\n",
        "    .withColumn(\"rank_tqm\", F.dense_rank().over(temp_per_month_asc))\n",
        "    .show()\n",
        ")"
      ],
      "metadata": {
        "colab": {
          "base_uri": "https://localhost:8080/"
        },
        "id": "5ndJ3kO3-o8-",
        "outputId": "0ea99b7e-9676-4486-fdb8-2b825332d843"
      },
      "execution_count": 19,
      "outputs": [
        {
          "output_type": "stream",
          "name": "stdout",
          "text": [
            "+------+----+---+---+----+----------+--------+\n",
            "|   stn|year| mo| da|temp|count_temp|rank_tqm|\n",
            "+------+----+---+---+----+----------+--------+\n",
            "|041680|2019| 02| 19|16.1|        15|       1|\n",
            "|996470|2018| 03| 12|55.6|        12|       1|\n",
            "|998166|2019| 03| 20|34.8|        12|       1|\n",
            "|998012|2017| 03| 02|31.4|        24|       2|\n",
            "|917350|2018| 04| 21|82.6|         9|       1|\n",
            "|998252|2019| 04| 18|44.7|        11|       2|\n",
            "|076470|2018| 06| 07|65.0|        24|       1|\n",
            "|719200|2017| 10| 09|60.5|        11|       1|\n",
            "|949110|2019| 11| 23|54.9|        14|       1|\n",
            "|994979|2017| 12| 11|21.3|        21|       1|\n",
            "+------+----+---+---+----+----------+--------+\n",
            "\n"
          ]
        }
      ]
    },
    {
      "cell_type": "code",
      "source": [
        " temp_each_year = each_year.orderBy(\"temp\")\n",
        "\n",
        " (\n",
        "    gsod_light\n",
        "    .withColumn(\"percent_rank\", F.percent_rank().over(temp_each_year))\n",
        "    .show()\n",
        ")\n"
      ],
      "metadata": {
        "colab": {
          "base_uri": "https://localhost:8080/"
        },
        "id": "Zrqf8ih-A7Gu",
        "outputId": "4fe8f283-a35f-4381-9cad-73f6073762b8"
      },
      "execution_count": 20,
      "outputs": [
        {
          "output_type": "stream",
          "name": "stdout",
          "text": [
            "+------+----+---+---+----+----------+------------------+\n",
            "|   stn|year| mo| da|temp|count_temp|      percent_rank|\n",
            "+------+----+---+---+----+----------+------------------+\n",
            "|994979|2017| 12| 11|21.3|        21|               0.0|\n",
            "|998012|2017| 03| 02|31.4|        24|               0.5|\n",
            "|719200|2017| 10| 09|60.5|        11|               1.0|\n",
            "|996470|2018| 03| 12|55.6|        12|               0.0|\n",
            "|076470|2018| 06| 07|65.0|        24|               0.5|\n",
            "|917350|2018| 04| 21|82.6|         9|               1.0|\n",
            "|041680|2019| 02| 19|16.1|        15|               0.0|\n",
            "|998166|2019| 03| 20|34.8|        12|0.3333333333333333|\n",
            "|998252|2019| 04| 18|44.7|        11|0.6666666666666666|\n",
            "|949110|2019| 11| 23|54.9|        14|               1.0|\n",
            "+------+----+---+---+----+----------+------------------+\n",
            "\n"
          ]
        }
      ]
    },
    {
      "cell_type": "code",
      "source": [
        "temp_each_year = each_year.orderBy(\"temp\")\n",
        "\n",
        "gsod_light.withColumn(\n",
        "    \"rank_tpm\", F.percent_rank().over(temp_each_year)\n",
        ").show()"
      ],
      "metadata": {
        "colab": {
          "base_uri": "https://localhost:8080/"
        },
        "id": "3-IglqAqB2o2",
        "outputId": "874383f9-b953-4eed-ee5b-fb1c2b8e073a"
      },
      "execution_count": 21,
      "outputs": [
        {
          "output_type": "stream",
          "name": "stdout",
          "text": [
            "+------+----+---+---+----+----------+------------------+\n",
            "|   stn|year| mo| da|temp|count_temp|          rank_tpm|\n",
            "+------+----+---+---+----+----------+------------------+\n",
            "|994979|2017| 12| 11|21.3|        21|               0.0|\n",
            "|998012|2017| 03| 02|31.4|        24|               0.5|\n",
            "|719200|2017| 10| 09|60.5|        11|               1.0|\n",
            "|996470|2018| 03| 12|55.6|        12|               0.0|\n",
            "|076470|2018| 06| 07|65.0|        24|               0.5|\n",
            "|917350|2018| 04| 21|82.6|         9|               1.0|\n",
            "|041680|2019| 02| 19|16.1|        15|               0.0|\n",
            "|998166|2019| 03| 20|34.8|        12|0.3333333333333333|\n",
            "|998252|2019| 04| 18|44.7|        11|0.6666666666666666|\n",
            "|949110|2019| 11| 23|54.9|        14|               1.0|\n",
            "+------+----+---+---+----+----------+------------------+\n",
            "\n"
          ]
        }
      ]
    },
    {
      "cell_type": "code",
      "source": [
        "# Flex those windows! using rwo and range boundaries\n",
        "\n",
        "#Ordering a window and the computation of the average\n",
        "\n",
        "# unordered widow spec\n",
        "not_ordered = Window.partitionBy('year')\n",
        "\n",
        "# ordered window spec\n",
        "ordered = not_ordered.orderBy(\"temp\")\n",
        "\n",
        "gsod_light.withColumn(\n",
        "    \"avg_NO\", F.avg(\"temp\").over(not_ordered)\n",
        ").withColumn(\"avg_O\", F.avg(\"temp\").over(ordered)).show()\n"
      ],
      "metadata": {
        "id": "70U7qSkRCJqN",
        "colab": {
          "base_uri": "https://localhost:8080/"
        },
        "outputId": "a89a9a0e-f50c-4fc8-b86a-73726071ddb0"
      },
      "execution_count": 22,
      "outputs": [
        {
          "output_type": "stream",
          "name": "stdout",
          "text": [
            "+------+----+---+---+----+----------+------------------+------------------+\n",
            "|   stn|year| mo| da|temp|count_temp|            avg_NO|             avg_O|\n",
            "+------+----+---+---+----+----------+------------------+------------------+\n",
            "|994979|2017| 12| 11|21.3|        21|37.733333333333334|              21.3|\n",
            "|998012|2017| 03| 02|31.4|        24|37.733333333333334|             26.35|\n",
            "|719200|2017| 10| 09|60.5|        11|37.733333333333334|37.733333333333334|\n",
            "|996470|2018| 03| 12|55.6|        12| 67.73333333333333|              55.6|\n",
            "|076470|2018| 06| 07|65.0|        24| 67.73333333333333|              60.3|\n",
            "|917350|2018| 04| 21|82.6|         9| 67.73333333333333| 67.73333333333333|\n",
            "|041680|2019| 02| 19|16.1|        15|            37.625|              16.1|\n",
            "|998166|2019| 03| 20|34.8|        12|            37.625|             25.45|\n",
            "|998252|2019| 04| 18|44.7|        11|            37.625|31.866666666666664|\n",
            "|949110|2019| 11| 23|54.9|        14|            37.625|            37.625|\n",
            "+------+----+---+---+----+----------+------------------+------------------+\n",
            "\n"
          ]
        }
      ]
    },
    {
      "cell_type": "code",
      "source": [
        "# if ordering is not defined then ubound window frame( rowFrame, unboundedPreceding\n",
        "# unboundedFollowing ) is used by default.\n",
        "\n",
        "# when ordering is defined a growing window frame (rangeframe, unbounded_preceding,\n",
        "# currentRow is used by default)\n",
        "\n",
        "\n"
      ],
      "metadata": {
        "id": "Xc2k5NV6vPHf"
      },
      "execution_count": null,
      "outputs": []
    },
    {
      "cell_type": "markdown",
      "source": [
        "![image.png](data:image/png;base64,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)"
      ],
      "metadata": {
        "id": "vNfkqeN1wfre"
      }
    },
    {
      "cell_type": "code",
      "source": [
        "# adding\n",
        "\n",
        "not_ordered = Window.partitionBy(\"year\").rowsBetween(\n",
        "    Window.unboundedPreceding, Window.currentRow\n",
        ")\n",
        "ordered = not_ordered.orderBy(\"temp\").rangeBetween(\n",
        "    Window.unboundedPreceding, Window.currentRow\n",
        ")\n",
        "\n",
        "\n",
        "gsod_light.withColumn(\n",
        "    \"avg_NO\", F.sum(\"temp\").over(not_ordered)\n",
        ").withColumn(\"avg_O\", F.sum(\"temp\").over(ordered)).where(\"year = 2018\").show()\n"
      ],
      "metadata": {
        "colab": {
          "base_uri": "https://localhost:8080/"
        },
        "id": "5ioOq4tywhok",
        "outputId": "1a275438-d0af-4ef7-da1b-e710cffd0b02"
      },
      "execution_count": 32,
      "outputs": [
        {
          "output_type": "stream",
          "name": "stdout",
          "text": [
            "+------+----+---+---+----+----------+------+-----+\n",
            "|   stn|year| mo| da|temp|count_temp|avg_NO|avg_O|\n",
            "+------+----+---+---+----+----------+------+-----+\n",
            "|996470|2018| 03| 12|55.6|        12| 203.2| 55.6|\n",
            "|076470|2018| 06| 07|65.0|        24| 147.6|120.6|\n",
            "|917350|2018| 04| 21|82.6|         9|  82.6|203.2|\n",
            "+------+----+---+---+----+----------+------+-----+\n",
            "\n"
          ]
        }
      ]
    },
    {
      "cell_type": "code",
      "source": [
        "# note : If your window spec is not ordered using a boundary is a non deterministic\n",
        "# operation. Spark will not guarantee that your window will contain the same values as\n",
        "# we are not ordering within a window before picking the boundary. This also Applies if you\n",
        "# order the dataframe in a previous operations. If you use boundary provide an explicit ordering clause"
      ],
      "metadata": {
        "id": "jvKs6gdTx-Ws"
      },
      "execution_count": 33,
      "outputs": []
    },
    {
      "cell_type": "code",
      "source": [],
      "metadata": {
        "id": "z6DcQnIc0KcP"
      },
      "execution_count": null,
      "outputs": []
    }
  ]
}