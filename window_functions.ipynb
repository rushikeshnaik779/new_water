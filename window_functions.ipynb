{
  "nbformat": 4,
  "nbformat_minor": 0,
  "metadata": {
    "colab": {
      "provenance": [],
      "authorship_tag": "ABX9TyN5ALn6VLdAmWhzj5rCxx9p",
      "include_colab_link": true
    },
    "kernelspec": {
      "name": "python3",
      "display_name": "Python 3"
    },
    "language_info": {
      "name": "python"
    }
  },
  "cells": [
    {
      "cell_type": "markdown",
      "metadata": {
        "id": "view-in-github",
        "colab_type": "text"
      },
      "source": [
        "<a href=\"https://colab.research.google.com/github/rushikeshnaik779/new_water/blob/main/window_functions.ipynb\" target=\"_parent\"><img src=\"https://colab.research.google.com/assets/colab-badge.svg\" alt=\"Open In Colab\"/></a>"
      ]
    },
    {
      "cell_type": "code",
      "execution_count": null,
      "metadata": {
        "colab": {
          "base_uri": "https://localhost:8080/"
        },
        "id": "49yWTQAmpZpa",
        "outputId": "54b08195-6200-47f0-e15c-d740ba3c45aa"
      },
      "outputs": [
        {
          "output_type": "stream",
          "name": "stdout",
          "text": [
            "Cloning into 'DataAnalysisWithPythonAndPySpark-Data'...\n",
            "remote: Enumerating objects: 71, done.\u001b[K\n",
            "remote: Total 71 (delta 0), reused 0 (delta 0), pack-reused 71\u001b[K\n",
            "Receiving objects: 100% (71/71), 828.81 MiB | 26.82 MiB/s, done.\n",
            "Updating files: 100% (59/59), done.\n"
          ]
        }
      ],
      "source": [
        "# Download Java Virtual Machine (JVM)\n",
        "!apt-get install openjdk-8-jdk-headless -qq > /dev/null\n",
        "\n",
        "!wget -q https://dlcdn.apache.org/spark/spark-3.5.0/spark-3.5.0-bin-hadoop3.tgz\n",
        "!tar xf spark-3.5.0-bin-hadoop3.tgz\n",
        "\n",
        "\n",
        "\n",
        "import os\n",
        "os.environ[\"JAVA_HOME\"] = \"/usr/lib/jvm/java-8-openjdk-amd64\"\n",
        "os.environ[\"SPARK_HOME\"] = \"/content/spark-3.5.0-bin-hadoop3\"\n",
        "\n",
        "\n",
        "!pip install -q findspark\n",
        "import findspark\n",
        "findspark.init()\n",
        "\n",
        "\n",
        "from pyspark.sql import SparkSession\n",
        "spark = SparkSession.builder\\\n",
        "        .master(\"local\")\\\n",
        "        .appName(\"Colab\")\\\n",
        "        .config('spark.ui.port', '4050')\\\n",
        "        .getOrCreate()\n",
        "\n",
        "\n",
        "# data because I am reading data analysis with python and pyspark\n",
        "!git clone https://github.com/jonesberg/DataAnalysisWithPythonAndPySpark-Data.git"
      ]
    },
    {
      "cell_type": "code",
      "source": [
        "!ls DataAnalysisWithPythonAndPySpark-Data/window\n"
      ],
      "metadata": {
        "colab": {
          "base_uri": "https://localhost:8080/"
        },
        "id": "YsaGEAmzpeZZ",
        "outputId": "6c512c63-bd0b-4215-96b2-358136e52043"
      },
      "execution_count": null,
      "outputs": [
        {
          "output_type": "stream",
          "name": "stdout",
          "text": [
            "gsod_light.parquet  gsod.parquet\n"
          ]
        }
      ]
    },
    {
      "cell_type": "code",
      "source": [
        "gsod = spark.read.parquet('./DataAnalysisWithPythonAndPySpark-Data/window/gsod.parquet')"
      ],
      "metadata": {
        "id": "UbzIliYPz7jS"
      },
      "execution_count": null,
      "outputs": []
    },
    {
      "cell_type": "code",
      "source": [
        "gsod.count()"
      ],
      "metadata": {
        "colab": {
          "base_uri": "https://localhost:8080/"
        },
        "id": "ESj0QaeV0GMq",
        "outputId": "f93e3090-b5dc-4e83-bc4b-18beead7e42e"
      },
      "execution_count": null,
      "outputs": [
        {
          "output_type": "execute_result",
          "data": {
            "text/plain": [
              "12460217"
            ]
          },
          "metadata": {},
          "execution_count": 6
        }
      ]
    },
    {
      "cell_type": "code",
      "source": [
        "gsod.show(1, False)"
      ],
      "metadata": {
        "colab": {
          "base_uri": "https://localhost:8080/"
        },
        "id": "T40CFqYQ0RGK",
        "outputId": "0a9324d0-a061-4f38-fb7e-26bf8c345b77"
      },
      "execution_count": null,
      "outputs": [
        {
          "output_type": "stream",
          "name": "stdout",
          "text": [
            "+------+-----+----+---+---+----+----------+------+----------+------+---------+-----+---------+-----+-----------+----+----------+-----+-----+----+--------+----+--------+----+---------+-----+---+------------+----------------+----+-------+--------------------+\n",
            "|stn   |wban |year|mo |da |temp|count_temp|dewp  |count_dewp|slp   |count_slp|stp  |count_stp|visib|count_visib|wdsp|count_wdsp|mxpsd|gust |max |flag_max|min |flag_min|prcp|flag_prcp|sndp |fog|rain_drizzle|snow_ice_pellets|hail|thunder|tornado_funnel_cloud|\n",
            "+------+-----+----+---+---+----+----------+------+----------+------+---------+-----+---------+-----+-----------+----+----------+-----+-----+----+--------+----+--------+----+---------+-----+---+------------+----------------+----+-------+--------------------+\n",
            "|917350|99999|2018|04 |21 |82.6|9         |9999.9|0         |1006.9|9        |993.2|9        |999.9|0          |3.7 |9         |8.5  |999.9|85.5|*       |74.5|        |0.31|G        |999.9|0  |0           |0               |0   |0      |0                   |\n",
            "+------+-----+----+---+---+----+----------+------+----------+------+---------+-----+---------+-----+-----------+----+----------+-----+-----+----+--------+----+--------+----+---------+-----+---+------------+----------------+----+-------+--------------------+\n",
            "only showing top 1 row\n",
            "\n"
          ]
        }
      ]
    },
    {
      "cell_type": "code",
      "source": [
        "# calculating the lowest temperature for each year using groupBy()\n",
        "import pyspark.sql.functions as F\n",
        "\n",
        "\n",
        "coldest_temp = gsod.groupby(\"year\").agg(F.min(\"temp\").alias(\"temp\"))\n",
        "coldest_temp.orderBy(\"temp\").show()"
      ],
      "metadata": {
        "colab": {
          "base_uri": "https://localhost:8080/"
        },
        "id": "X0Lj3Dv-0TrJ",
        "outputId": "f49c1c52-8e0a-4303-edfd-04c374fddd99"
      },
      "execution_count": null,
      "outputs": [
        {
          "output_type": "stream",
          "name": "stdout",
          "text": [
            "+----+------+\n",
            "|year|  temp|\n",
            "+----+------+\n",
            "|2019|-114.7|\n",
            "|2017|-114.7|\n",
            "|2018|-113.5|\n",
            "+----+------+\n",
            "\n"
          ]
        }
      ]
    },
    {
      "cell_type": "code",
      "source": [
        "coldest_when = gsod.join(\n",
        "    coldest_temp, how=\"left_semi\", on=[\"year\", \"temp\"]\n",
        ").select(\"stn\", \"year\", \"mo\", \"da\", \"temp\")\n",
        "\n",
        "\n",
        "coldest_when.orderBy(\"year\", \"mo\", \"da\").show()"
      ],
      "metadata": {
        "colab": {
          "base_uri": "https://localhost:8080/"
        },
        "id": "9BZ3SHoe1SWc",
        "outputId": "7c589278-1518-4829-dcd8-bdd8b3ad94e1"
      },
      "execution_count": null,
      "outputs": [
        {
          "output_type": "stream",
          "name": "stdout",
          "text": [
            "+------+----+---+---+------+\n",
            "|   stn|year| mo| da|  temp|\n",
            "+------+----+---+---+------+\n",
            "|896250|2017| 06| 20|-114.7|\n",
            "|896060|2018| 08| 27|-113.5|\n",
            "|895770|2019| 06| 15|-114.7|\n",
            "+------+----+---+---+------+\n",
            "\n"
          ]
        }
      ]
    },
    {
      "cell_type": "code",
      "source": [
        "# creating and using a simple window function to get the coldest day\n",
        "\n",
        "# split apply combine --- data analysis world\n",
        "# window function ---- Sql world\n",
        "\n",
        "from pyspark.sql.window import Window\n",
        "\n",
        "each_year = Window.partitionBy(\"year\")\n",
        "\n",
        "print(each_year)"
      ],
      "metadata": {
        "colab": {
          "base_uri": "https://localhost:8080/"
        },
        "id": "REf-yLzI19NM",
        "outputId": "b010ada6-58a5-43e0-9916-ae3c356d218d"
      },
      "execution_count": null,
      "outputs": [
        {
          "output_type": "stream",
          "name": "stdout",
          "text": [
            "<pyspark.sql.window.WindowSpec object at 0x7bf360f08a00>\n"
          ]
        }
      ]
    },
    {
      "cell_type": "code",
      "source": [
        "# again reprinting the join code\n",
        "coldest_when = gsod.join(\n",
        "    coldest_temp, how=\"left_semi\", on=[\"year\", \"temp\"]\n",
        ").select(\"stn\", \"year\", \"mo\", \"da\", \"temp\")\n",
        "\n",
        "coldest_when.orderBy(\"year\", \"mo\", \"da\").show()"
      ],
      "metadata": {
        "colab": {
          "base_uri": "https://localhost:8080/"
        },
        "id": "KUbJrYsn4BXr",
        "outputId": "b735391d-76e1-4312-8862-cc4e024cc3f0"
      },
      "execution_count": null,
      "outputs": [
        {
          "output_type": "stream",
          "name": "stdout",
          "text": [
            "+------+----+---+---+------+\n",
            "|   stn|year| mo| da|  temp|\n",
            "+------+----+---+---+------+\n",
            "|896250|2017| 06| 20|-114.7|\n",
            "|896060|2018| 08| 27|-113.5|\n",
            "|895770|2019| 06| 15|-114.7|\n",
            "+------+----+---+---+------+\n",
            "\n"
          ]
        }
      ]
    },
    {
      "cell_type": "code",
      "source": [
        "# Selecting the minimum temperature for each year using a window function\n",
        "\n",
        "checking = (gsod\n",
        " .withColumn(\"min_temp\", F.min(\"temp\").over(each_year))\n",
        "# .where(\"temp = min_temp\")\n",
        " .select(\"year\", \"mo\", \"da\", \"stn\", \"temp\", \"min_temp\")\n",
        " .orderBy(\"year\", \"mo\", \"da\")\n",
        "# .show()\n",
        " )"
      ],
      "metadata": {
        "id": "RaJUFQwo4a-7"
      },
      "execution_count": null,
      "outputs": []
    },
    {
      "cell_type": "code",
      "source": [
        "print(checking.count())\n",
        "print(gsod.count())"
      ],
      "metadata": {
        "colab": {
          "base_uri": "https://localhost:8080/"
        },
        "id": "Rb644D1343aS",
        "outputId": "8c402395-7c0d-4887-82d1-f15774821a8a"
      },
      "execution_count": null,
      "outputs": [
        {
          "output_type": "stream",
          "name": "stdout",
          "text": [
            "12460217\n",
            "12460217\n"
          ]
        }
      ]
    },
    {
      "cell_type": "code",
      "source": [
        "# select\n",
        "gsod.select(\n",
        "    \"year\",\n",
        "    \"mo\",\n",
        "    \"da\",\n",
        "    \"stn\",\n",
        "    \"temp\",\n",
        "    F.min(\"temp\").over(each_year).alias(\"min_temp\"),\n",
        ").where(\n",
        "    \"temp = min_temp\"\n",
        ").drop(\"min_temp\"\n",
        ").orderBy(\n",
        "    \"year\",\"mo\", \"da\"\n",
        ").show()"
      ],
      "metadata": {
        "colab": {
          "base_uri": "https://localhost:8080/"
        },
        "id": "8QErz7WW5Lsc",
        "outputId": "575fdb6a-eda6-4a1c-8df9-e462cf60b602"
      },
      "execution_count": null,
      "outputs": [
        {
          "output_type": "stream",
          "name": "stdout",
          "text": [
            "+----+---+---+------+------+\n",
            "|year| mo| da|   stn|  temp|\n",
            "+----+---+---+------+------+\n",
            "|2017| 06| 20|896250|-114.7|\n",
            "|2018| 08| 27|896060|-113.5|\n",
            "|2019| 06| 15|895770|-114.7|\n",
            "+----+---+---+------+------+\n",
            "\n"
          ]
        }
      ]
    },
    {
      "cell_type": "code",
      "source": [
        "# windows functions are much more flexible\n",
        "# ranking and ANalytical functions\n",
        "\n",
        "\n",
        "# Ranking - which provides information about rank(first, second all the way to last),\n",
        "# n-tiles and the ever so useful row number\n",
        "\n",
        "# Analytical functions - which despite it's namesake covers a variety of behaviours not\n",
        "# related to summary or ranking\n",
        "\n"
      ],
      "metadata": {
        "id": "WWbUEOKy6pfw"
      },
      "execution_count": null,
      "outputs": []
    },
    {
      "cell_type": "code",
      "source": [
        "gsod_light = spark.read.parquet('./DataAnalysisWithPythonAndPySpark-Data/window/gsod_light.parquet')"
      ],
      "metadata": {
        "id": "uC-8SUYH9SgR"
      },
      "execution_count": null,
      "outputs": []
    },
    {
      "cell_type": "code",
      "source": [
        "gsod_light.show()"
      ],
      "metadata": {
        "colab": {
          "base_uri": "https://localhost:8080/"
        },
        "id": "HrDWh8hg9UlI",
        "outputId": "18db92a0-d8a6-4acf-b7ef-98d3b2147542"
      },
      "execution_count": null,
      "outputs": [
        {
          "output_type": "stream",
          "name": "stdout",
          "text": [
            "+------+----+---+---+----+----------+\n",
            "|   stn|year| mo| da|temp|count_temp|\n",
            "+------+----+---+---+----+----------+\n",
            "|994979|2017| 12| 11|21.3|        21|\n",
            "|998012|2017| 03| 02|31.4|        24|\n",
            "|719200|2017| 10| 09|60.5|        11|\n",
            "|917350|2018| 04| 21|82.6|         9|\n",
            "|076470|2018| 06| 07|65.0|        24|\n",
            "|996470|2018| 03| 12|55.6|        12|\n",
            "|041680|2019| 02| 19|16.1|        15|\n",
            "|949110|2019| 11| 23|54.9|        14|\n",
            "|998252|2019| 04| 18|44.7|        11|\n",
            "|998166|2019| 03| 20|34.8|        12|\n",
            "+------+----+---+---+----+----------+\n",
            "\n"
          ]
        }
      ]
    },
    {
      "cell_type": "code",
      "source": [
        "# ranking functions\n",
        "temp_per_month_asc = Window.partitionBy(\"mo\").orderBy(\"count_temp\")\n",
        "# partitioning with Month but we will order by count_temp\n",
        "print(temp_per_month_asc)"
      ],
      "metadata": {
        "colab": {
          "base_uri": "https://localhost:8080/"
        },
        "id": "dD-TAwxM9ZVO",
        "outputId": "b4013e92-d016-43fb-d6d1-48de7af14d99"
      },
      "execution_count": null,
      "outputs": [
        {
          "output_type": "stream",
          "name": "stdout",
          "text": [
            "<pyspark.sql.window.WindowSpec object at 0x7bf330e4d390>\n"
          ]
        }
      ]
    },
    {
      "cell_type": "code",
      "source": [
        "# The rank() according to the value of the count_temp column\n"
      ],
      "metadata": {
        "id": "czZxvB1W_UaX"
      },
      "execution_count": null,
      "outputs": []
    },
    {
      "cell_type": "code",
      "source": [
        "(gsod_light.withColumn(\n",
        "    \"rank_tqm\", F.rank().over(temp_per_month_asc)\n",
        ")\n",
        " # .where('mo = 03')\n",
        ".show()\n",
        ")"
      ],
      "metadata": {
        "colab": {
          "base_uri": "https://localhost:8080/"
        },
        "id": "zgJ3BojK-PrX",
        "outputId": "d7276b51-120e-4d11-e8be-743a16fa50fe"
      },
      "execution_count": null,
      "outputs": [
        {
          "output_type": "stream",
          "name": "stdout",
          "text": [
            "+------+----+---+---+----+----------+--------+\n",
            "|   stn|year| mo| da|temp|count_temp|rank_tqm|\n",
            "+------+----+---+---+----+----------+--------+\n",
            "|041680|2019| 02| 19|16.1|        15|       1|\n",
            "|996470|2018| 03| 12|55.6|        12|       1|\n",
            "|998166|2019| 03| 20|34.8|        12|       1|\n",
            "|998012|2017| 03| 02|31.4|        24|       3|\n",
            "|917350|2018| 04| 21|82.6|         9|       1|\n",
            "|998252|2019| 04| 18|44.7|        11|       2|\n",
            "|076470|2018| 06| 07|65.0|        24|       1|\n",
            "|719200|2017| 10| 09|60.5|        11|       1|\n",
            "|949110|2019| 11| 23|54.9|        14|       1|\n",
            "|994979|2017| 12| 11|21.3|        21|       1|\n",
            "+------+----+---+---+----+----------+--------+\n",
            "\n"
          ]
        }
      ]
    },
    {
      "cell_type": "code",
      "source": [
        "(\n",
        "    gsod_light\n",
        "    .withColumn(\"rank_tqm\", F.dense_rank().over(temp_per_month_asc))\n",
        "    .show()\n",
        ")"
      ],
      "metadata": {
        "colab": {
          "base_uri": "https://localhost:8080/"
        },
        "id": "5ndJ3kO3-o8-",
        "outputId": "02e55f8f-865e-4e9c-e979-d664ee554456"
      },
      "execution_count": null,
      "outputs": [
        {
          "output_type": "stream",
          "name": "stdout",
          "text": [
            "+------+----+---+---+----+----------+--------+------------+\n",
            "|   stn|year| mo| da|temp|count_temp|rank_tqm|percent_rank|\n",
            "+------+----+---+---+----+----------+--------+------------+\n",
            "|041680|2019| 02| 19|16.1|        15|       1|         0.0|\n",
            "|996470|2018| 03| 12|55.6|        12|       1|         0.0|\n",
            "|998166|2019| 03| 20|34.8|        12|       1|         0.0|\n",
            "|998012|2017| 03| 02|31.4|        24|       2|         1.0|\n",
            "|917350|2018| 04| 21|82.6|         9|       1|         0.0|\n",
            "|998252|2019| 04| 18|44.7|        11|       2|         1.0|\n",
            "|076470|2018| 06| 07|65.0|        24|       1|         0.0|\n",
            "|719200|2017| 10| 09|60.5|        11|       1|         0.0|\n",
            "|949110|2019| 11| 23|54.9|        14|       1|         0.0|\n",
            "|994979|2017| 12| 11|21.3|        21|       1|         0.0|\n",
            "+------+----+---+---+----+----------+--------+------------+\n",
            "\n"
          ]
        }
      ]
    },
    {
      "cell_type": "code",
      "source": [
        " temp_each_year = each_year.orderBy(\"temp\")\n",
        "\n",
        " (\n",
        "    gsod_light\n",
        "    .withColumn(\"percent_rank\", F.percent_rank().over(temp_each_year))\n",
        "    .show()\n",
        ")\n"
      ],
      "metadata": {
        "colab": {
          "base_uri": "https://localhost:8080/"
        },
        "id": "Zrqf8ih-A7Gu",
        "outputId": "72dae03d-39a7-42cb-a7dd-99f48b3d8592"
      },
      "execution_count": null,
      "outputs": [
        {
          "output_type": "stream",
          "name": "stdout",
          "text": [
            "+------+----+---+---+----+----------+------------------+\n",
            "|   stn|year| mo| da|temp|count_temp|      percent_rank|\n",
            "+------+----+---+---+----+----------+------------------+\n",
            "|994979|2017| 12| 11|21.3|        21|               0.0|\n",
            "|998012|2017| 03| 02|31.4|        24|               0.5|\n",
            "|719200|2017| 10| 09|60.5|        11|               1.0|\n",
            "|996470|2018| 03| 12|55.6|        12|               0.0|\n",
            "|076470|2018| 06| 07|65.0|        24|               0.5|\n",
            "|917350|2018| 04| 21|82.6|         9|               1.0|\n",
            "|041680|2019| 02| 19|16.1|        15|               0.0|\n",
            "|998166|2019| 03| 20|34.8|        12|0.3333333333333333|\n",
            "|998252|2019| 04| 18|44.7|        11|0.6666666666666666|\n",
            "|949110|2019| 11| 23|54.9|        14|               1.0|\n",
            "+------+----+---+---+----+----------+------------------+\n",
            "\n"
          ]
        }
      ]
    },
    {
      "cell_type": "code",
      "source": [
        "temp_each_year = each_year.orderBy(\"temp\")\n",
        "\n",
        "gsod_light.withColumn(\n",
        "    \"rank_tpm\", F.percent_rank().over(temp_each_year)\n",
        ").show()"
      ],
      "metadata": {
        "colab": {
          "base_uri": "https://localhost:8080/"
        },
        "id": "3-IglqAqB2o2",
        "outputId": "ff346104-2e37-426b-e724-b44d3ec73beb"
      },
      "execution_count": null,
      "outputs": [
        {
          "output_type": "stream",
          "name": "stdout",
          "text": [
            "+------+----+---+---+----+----------+------------------+\n",
            "|   stn|year| mo| da|temp|count_temp|          rank_tpm|\n",
            "+------+----+---+---+----+----------+------------------+\n",
            "|994979|2017| 12| 11|21.3|        21|               0.0|\n",
            "|998012|2017| 03| 02|31.4|        24|               0.5|\n",
            "|719200|2017| 10| 09|60.5|        11|               1.0|\n",
            "|996470|2018| 03| 12|55.6|        12|               0.0|\n",
            "|076470|2018| 06| 07|65.0|        24|               0.5|\n",
            "|917350|2018| 04| 21|82.6|         9|               1.0|\n",
            "|041680|2019| 02| 19|16.1|        15|               0.0|\n",
            "|998166|2019| 03| 20|34.8|        12|0.3333333333333333|\n",
            "|998252|2019| 04| 18|44.7|        11|0.6666666666666666|\n",
            "|949110|2019| 11| 23|54.9|        14|               1.0|\n",
            "+------+----+---+---+----+----------+------------------+\n",
            "\n"
          ]
        }
      ]
    },
    {
      "cell_type": "code",
      "source": [],
      "metadata": {
        "id": "70U7qSkRCJqN"
      },
      "execution_count": null,
      "outputs": []
    }
  ]
}